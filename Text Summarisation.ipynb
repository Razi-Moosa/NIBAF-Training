{
 "cells": [
  {
   "cell_type": "markdown",
   "id": "c1db3bed",
   "metadata": {},
   "source": [
    "### Installing Transformers and Importing Dependencies"
   ]
  },
  {
   "cell_type": "code",
   "execution_count": null,
   "id": "b5262e9f",
   "metadata": {},
   "outputs": [],
   "source": [
    "!pip install transformers"
   ]
  },
  {
   "cell_type": "code",
   "execution_count": null,
   "id": "2a1901af",
   "metadata": {},
   "outputs": [],
   "source": [
    "from transformers import pipeline"
   ]
  },
  {
   "cell_type": "markdown",
   "id": "ec0855a8",
   "metadata": {},
   "source": [
    "### Load Summarization Pipeline"
   ]
  },
  {
   "cell_type": "code",
   "execution_count": null,
   "id": "082ff9e1",
   "metadata": {},
   "outputs": [],
   "source": [
    "summarizer = pipeline(\"summarization\")"
   ]
  },
  {
   "cell_type": "markdown",
   "id": "2272fc52",
   "metadata": {},
   "source": [
    "### Summarize Text"
   ]
  },
  {
   "cell_type": "code",
   "execution_count": null,
   "id": "4d9a0d6b",
   "metadata": {},
   "outputs": [],
   "source": [
    "article = '''\n",
    "During the outgoing FY2023, Pakistan faced unprecedented challenges due to political uncertainty compounded by\n",
    "devastating floods. In addition to this, Pakistan’s economic outlook further deteriorated due to high inflation driven by\n",
    "international commodities prices, currency devaluation, and fiscal imbalances.\n",
    "Pakistan Stock Exchange, as the country’s national bourse, widely used by investors as the yardstick for measuring the\n",
    "strength of the economy, saw the KSE-100 Index closing at 41,453 on June 27, 2023 (vs 41,541 on June 30, 2022)\n",
    "decreasing by 0.21%.\n",
    "By the end of the financial year, the market capitalization of 524 companies listed on the local bourse was PKR 6.37\n",
    "trillion.\n",
    "During FY 2022-23, PSX approved 4 listing applications and prospectuses of equity securities namely; Globe Residency\n",
    "REIT, Dalda Foods Limited, Symmetry Group Limited and Searle Pakistan Limited. Moreover, 3 listings took place by way\n",
    "of merger which include Ghani Chemicals Industries Limited, LSE Proptech Limited and LSE Ventures Limited. Further,\n",
    "Class-B Ordinary Shares of Ghani Chemical Industries Limited were also listed on the Exchange by way of Right Issue\n",
    "o\u001fered to existing shareholders of the Company. Out of the aforementioned 7 listing applications, 4 companies were\n",
    "listed on the Main Board during FY 2022-23 having a total paid up capital of PKR 8,664 million.\n",
    "In addition to the above, 10 Privately Placed Debt Securities having a combined issue size of PKR 54,173 million, 12 Open\n",
    "End Mutual Funds constituted a total fund size of PKR 23,982 million and 1 Exchange Traded Fund were also listed\n",
    "during the year.\n",
    "PSX also added a new debt-based Exchange Traded Fund (ETF) namely HBL Total Treasury ETF. Furthermore, PSX has\n",
    "also launched a fundamental index (PSX Dividend 20 Index) tracking the performance of the top 20 dividend-paying\n",
    "companies listed on PSX.\n",
    "In the outgoing fiscal year, PSX, being a symbol of Pakistan’s economy and being at the forefront of financial innovation\n",
    "in the country, has successfully introduced world-class trading infrastructure from technological perspective as well as\n",
    "innovative investment products for investors.\n",
    "June 30, 2023 June 30, 2022\n",
    "No. of Listed Companies 524 530\n",
    "Listed Capital (PKR Mn.) 1,627,167 1,525,899\n",
    "Trading Volume – Ready Mkt + DFC (Mn) 67,199 101,657\n",
    "Trading Value – Ready Mkt + DFC (PKR Mn) 2,344,555 3,567,317\n",
    "Market Capitalization (PKR Mn) 6,369,473 6,956,507\n",
    "KSE 100 Index 41,452.69 41,540.83\n",
    "KSE 30 Index 14,636.72 15,805.04 \n",
    "'''"
   ]
  },
  {
   "cell_type": "code",
   "execution_count": null,
   "id": "bdcb8d2c",
   "metadata": {},
   "outputs": [],
   "source": [
    "summarizer(article, max_length=600, min_length=30, do_sample=False)"
   ]
  },
  {
   "cell_type": "code",
   "execution_count": null,
   "id": "0915bb77",
   "metadata": {},
   "outputs": [],
   "source": []
  }
 ],
 "metadata": {
  "kernelspec": {
   "display_name": "Python 3 (ipykernel)",
   "language": "python",
   "name": "python3"
  },
  "language_info": {
   "codemirror_mode": {
    "name": "ipython",
    "version": 3
   },
   "file_extension": ".py",
   "mimetype": "text/x-python",
   "name": "python",
   "nbconvert_exporter": "python",
   "pygments_lexer": "ipython3",
   "version": "3.11.4"
  }
 },
 "nbformat": 4,
 "nbformat_minor": 5
}
