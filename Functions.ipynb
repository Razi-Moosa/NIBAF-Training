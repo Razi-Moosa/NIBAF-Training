{
  "cells": [
    {
      "cell_type": "markdown",
      "metadata": {
        "id": "view-in-github",
        "colab_type": "text"
      },
      "source": [
        "<a href=\"https://colab.research.google.com/github/chhotani18/NIBAF-Training/blob/master/Functions.ipynb\" target=\"_parent\"><img src=\"https://colab.research.google.com/assets/colab-badge.svg\" alt=\"Open In Colab\"/></a>"
      ]
    },
    {
      "cell_type": "markdown",
      "metadata": {
        "id": "5eNE1TVIjVX9"
      },
      "source": [
        "# <center><font style=\"color:rgb(100,109,254)\">Welcome to Python From Bits</font><center>\n"
      ]
    },
    {
      "cell_type": "markdown",
      "metadata": {
        "id": "PGx7GN70jVYA"
      },
      "source": [
        "## <font style=\"color:rgb(134,19,348)\">  Creating Functions     </font>"
      ]
    },
    {
      "cell_type": "markdown",
      "metadata": {
        "id": "1_XdZ6xcjVYB"
      },
      "source": [
        "One of the core principles of any programming language is, \"Don't Repeat Yourself\". If you have an action that should occur many times, you can define that action once and then call that code whenever you need to carry out that action.\n",
        "\n",
        "We are already repeating ourselves in our code, so this is a good time to introduce simple functions. Functions mean less work for us as programmers, and effective use of functions results in code that is less error-prone."
      ]
    },
    {
      "cell_type": "markdown",
      "metadata": {
        "id": "6w2QU2b1jVYC"
      },
      "source": [
        "**A simple Function that prints `hello there`**"
      ]
    },
    {
      "cell_type": "code",
      "execution_count": 20,
      "metadata": {
        "id": "g_fmjcSSjVYC"
      },
      "outputs": [],
      "source": [
        "def hello():\n",
        "    print('hello there')"
      ]
    },
    {
      "cell_type": "markdown",
      "metadata": {
        "id": "EUd_CWt1jVYD"
      },
      "source": [
        "Now that I've created the function above I have to call it to use it"
      ]
    },
    {
      "cell_type": "code",
      "execution_count": 21,
      "metadata": {
        "colab": {
          "base_uri": "https://localhost:8080/"
        },
        "id": "u61R8F7EjVYD",
        "outputId": "27fe7442-f563-4de7-e523-76995e2ea871"
      },
      "outputs": [
        {
          "output_type": "stream",
          "name": "stdout",
          "text": [
            "hello there\n"
          ]
        }
      ],
      "source": [
        "hello()"
      ]
    },
    {
      "cell_type": "markdown",
      "metadata": {
        "id": "xBU8LYyNjVYD"
      },
      "source": [
        "- **Defining a function**\n",
        "    - Give the keyword `def`, which tells Python that you are about to *define* a function.\n",
        "    - Give your function a name. A variable name tells you what kind of value the variable contains; a function name should tell you what the function does.\n",
        "    - Give names for each value the function needs in order to do its work.\n",
        "        - These are basically variable names, but they are only used in the function.\n",
        "        - They can be different names than what you use in the rest of your program.\n",
        "        - These are called the function's *arguments*.\n",
        "    - Make sure the function definition line ends with a colon.\n",
        "    - Inside the function, write whatever code you need to make the function do its work."
      ]
    },
    {
      "cell_type": "markdown",
      "metadata": {
        "id": "X7_BcYpMjVYE"
      },
      "source": [
        "- **Using your function**\n",
        "    - To *call* your function, write its name followed by parentheses.\n",
        "    - Inside the parentheses, give the values you want the function to work with.\n",
        "        - These can be variables such as `current_name` and `current_age`, or they can be actual values such as 'eric' and 5."
      ]
    },
    {
      "cell_type": "markdown",
      "metadata": {
        "id": "Ito-CrskjVYE"
      },
      "source": [
        "Now This time lets create another function and this time it will write hello with the name of the person we pass <br>\n",
        "Since we want this function to be dynamic and adapt to any name , we will pass the name as a parameter"
      ]
    },
    {
      "cell_type": "code",
      "execution_count": 27,
      "metadata": {
        "id": "N8IckvfejVYE"
      },
      "outputs": [],
      "source": [
        "def hello2(name):\n",
        "    print(\"hello\", name, \"how are you?\")"
      ]
    },
    {
      "cell_type": "markdown",
      "metadata": {
        "id": "jkFttmw2jVYE"
      },
      "source": [
        "Now lets use the above function with different names"
      ]
    },
    {
      "cell_type": "code",
      "execution_count": 28,
      "metadata": {
        "colab": {
          "base_uri": "https://localhost:8080/"
        },
        "id": "5UDxDnMCjVYF",
        "outputId": "0124d142-4403-4d73-a498-3189a66af3be"
      },
      "outputs": [
        {
          "output_type": "stream",
          "name": "stdout",
          "text": [
            "hello Zohair how are you?\n"
          ]
        }
      ],
      "source": [
        "hello2('Zohair')"
      ]
    },
    {
      "cell_type": "code",
      "execution_count": 29,
      "metadata": {
        "colab": {
          "base_uri": "https://localhost:8080/"
        },
        "id": "2IcTsy2pjVYF",
        "outputId": "02dc9016-4044-46d3-88dc-dfdeb7272acc"
      },
      "outputs": [
        {
          "output_type": "stream",
          "name": "stdout",
          "text": [
            "hello Abdullah how are you?\n"
          ]
        }
      ],
      "source": [
        "hello2(\"Abdullah\")"
      ]
    },
    {
      "cell_type": "code",
      "execution_count": 30,
      "metadata": {
        "colab": {
          "base_uri": "https://localhost:8080/",
          "height": 144
        },
        "id": "siI3ifkGjVYF",
        "outputId": "868221b0-8fbb-4a3a-d98b-a97b17380abe"
      },
      "outputs": [
        {
          "output_type": "error",
          "ename": "TypeError",
          "evalue": "hello2() missing 1 required positional argument: 'name'",
          "traceback": [
            "\u001b[0;31m---------------------------------------------------------------------------\u001b[0m",
            "\u001b[0;31mTypeError\u001b[0m                                 Traceback (most recent call last)",
            "\u001b[0;32m<ipython-input-30-be96a2e6ee90>\u001b[0m in \u001b[0;36m<cell line: 1>\u001b[0;34m()\u001b[0m\n\u001b[0;32m----> 1\u001b[0;31m \u001b[0mhello2\u001b[0m\u001b[0;34m(\u001b[0m\u001b[0;34m)\u001b[0m\u001b[0;34m\u001b[0m\u001b[0;34m\u001b[0m\u001b[0m\n\u001b[0m",
            "\u001b[0;31mTypeError\u001b[0m: hello2() missing 1 required positional argument: 'name'"
          ]
        }
      ],
      "source": [
        "hello2()"
      ]
    },
    {
      "cell_type": "markdown",
      "metadata": {
        "id": "oy8hqzULjVYF"
      },
      "source": [
        "Right now , if you don't pass a param in the above function then it will give an error , so lets put a default param so the function always have a value to display"
      ]
    },
    {
      "cell_type": "code",
      "execution_count": 35,
      "metadata": {
        "id": "JcNhUfVVjVYF"
      },
      "outputs": [],
      "source": [
        "def hello3(name='there,'):\n",
        "    print(\"hello,\",name, \"how are you?\")"
      ]
    },
    {
      "cell_type": "code",
      "execution_count": 36,
      "metadata": {
        "colab": {
          "base_uri": "https://localhost:8080/"
        },
        "id": "7ZvvTFyljVYF",
        "outputId": "2aaecba2-81f8-47e6-b226-7884ab038b08"
      },
      "outputs": [
        {
          "output_type": "stream",
          "name": "stdout",
          "text": [
            "hello, Zohair how are you?\n"
          ]
        }
      ],
      "source": [
        "hello3('Zohair')"
      ]
    },
    {
      "cell_type": "code",
      "execution_count": 37,
      "metadata": {
        "colab": {
          "base_uri": "https://localhost:8080/"
        },
        "id": "SGSKJn0AjVYF",
        "outputId": "fb09a3a5-067a-4286-e521-f7474e612ed1"
      },
      "outputs": [
        {
          "output_type": "stream",
          "name": "stdout",
          "text": [
            "hello, there, how are you?\n"
          ]
        }
      ],
      "source": [
        "hello3()"
      ]
    },
    {
      "cell_type": "markdown",
      "metadata": {
        "id": "ohN1JnlTjVYF"
      },
      "source": [
        "Now lets make a function return a value , for that we will need to use the `return` keyword <br>\n",
        "below is simple function which returns the square of any number passed in"
      ]
    },
    {
      "cell_type": "code",
      "execution_count": 38,
      "metadata": {
        "id": "MzbHkntojVYF"
      },
      "outputs": [],
      "source": [
        "def square(x):\n",
        "    return x**2"
      ]
    },
    {
      "cell_type": "code",
      "execution_count": 12,
      "metadata": {
        "colab": {
          "base_uri": "https://localhost:8080/"
        },
        "id": "9Q_O1dfVjVYG",
        "outputId": "9f373b45-0b9e-4384-896a-648e3b1e2cdc"
      },
      "outputs": [
        {
          "output_type": "execute_result",
          "data": {
            "text/plain": [
              "25"
            ]
          },
          "metadata": {},
          "execution_count": 12
        }
      ],
      "source": [
        "square(5)"
      ]
    },
    {
      "cell_type": "markdown",
      "metadata": {
        "id": "vs7v0Q7ujVYG"
      },
      "source": [
        "Now let's have a function for multiplication"
      ]
    },
    {
      "cell_type": "code",
      "execution_count": 39,
      "metadata": {
        "id": "ZNQeF9_XjVYG"
      },
      "outputs": [],
      "source": [
        "def multiply(x,y):\n",
        "    return x*y"
      ]
    },
    {
      "cell_type": "code",
      "execution_count": 40,
      "metadata": {
        "colab": {
          "base_uri": "https://localhost:8080/"
        },
        "id": "JbZYX67rjVYG",
        "outputId": "bce32604-06a7-445e-8ec9-e32be9e74904"
      },
      "outputs": [
        {
          "output_type": "execute_result",
          "data": {
            "text/plain": [
              "12"
            ]
          },
          "metadata": {},
          "execution_count": 40
        }
      ],
      "source": [
        "multiply(3,4)"
      ]
    },
    {
      "cell_type": "markdown",
      "metadata": {
        "id": "bz5dClARjVYG"
      },
      "source": [
        "Now lets have another Muliplication function with an optional parameter"
      ]
    },
    {
      "cell_type": "code",
      "execution_count": 41,
      "metadata": {
        "id": "SZ-6JT_AjVYH"
      },
      "outputs": [],
      "source": [
        "def multiply2(x,y,const=4): #optional parameter can be left with default values\n",
        "    return x*y  + const"
      ]
    },
    {
      "cell_type": "code",
      "execution_count": 43,
      "metadata": {
        "colab": {
          "base_uri": "https://localhost:8080/"
        },
        "id": "gRbaK-BQjVYH",
        "outputId": "db75780f-2f27-4f47-cd42-36eba52dbb5a"
      },
      "outputs": [
        {
          "output_type": "execute_result",
          "data": {
            "text/plain": [
              "220"
            ]
          },
          "metadata": {},
          "execution_count": 43
        }
      ],
      "source": [
        "multiply2(4,5,200)"
      ]
    },
    {
      "cell_type": "markdown",
      "metadata": {
        "id": "j8Et58bpjVYH"
      },
      "source": [
        "You can modify the optiional param"
      ]
    },
    {
      "cell_type": "code",
      "execution_count": 44,
      "metadata": {
        "colab": {
          "base_uri": "https://localhost:8080/"
        },
        "id": "4KRWVdzMjVYH",
        "outputId": "117a7e09-ffaa-44e5-a9bb-cd4ad352b72b"
      },
      "outputs": [
        {
          "output_type": "execute_result",
          "data": {
            "text/plain": [
              "25"
            ]
          },
          "metadata": {},
          "execution_count": 44
        }
      ],
      "source": [
        "multiply2(3,5,10)"
      ]
    },
    {
      "cell_type": "code",
      "execution_count": 45,
      "metadata": {
        "id": "tzD4Njp_jVYH"
      },
      "outputs": [],
      "source": [
        "def multiply_power_it(x,y,squareit=False):\n",
        "    if squareit == True:\n",
        "        return x**y\n",
        "    else:\n",
        "        return x*y"
      ]
    },
    {
      "cell_type": "code",
      "execution_count": 46,
      "metadata": {
        "colab": {
          "base_uri": "https://localhost:8080/"
        },
        "id": "auUW2aE3jVYH",
        "outputId": "d1da3107-b5bc-4c9d-c5c6-6af14cae5dec"
      },
      "outputs": [
        {
          "output_type": "execute_result",
          "data": {
            "text/plain": [
              "9"
            ]
          },
          "metadata": {},
          "execution_count": 46
        }
      ],
      "source": [
        "multiply_power_it(3,3)"
      ]
    },
    {
      "cell_type": "code",
      "execution_count": 47,
      "metadata": {
        "colab": {
          "base_uri": "https://localhost:8080/"
        },
        "id": "ERPmDAXdjVYH",
        "outputId": "1f0e0b35-a848-4187-ac5d-63a185c0fe89"
      },
      "outputs": [
        {
          "output_type": "execute_result",
          "data": {
            "text/plain": [
              "27"
            ]
          },
          "metadata": {},
          "execution_count": 47
        }
      ],
      "source": [
        "multiply3(3,3,squareit=True)"
      ]
    },
    {
      "cell_type": "markdown",
      "source": [
        "\n",
        "Write a function called `calculate_area` that takes two parameters: `length` and `width`.\n",
        "The function should return the area of a rectangle (which is calculated by multiplying the length by the width)."
      ],
      "metadata": {
        "id": "pXD9eiTVerYs"
      }
    },
    {
      "cell_type": "code",
      "source": [],
      "metadata": {
        "id": "9NWeYWuzevlz"
      },
      "execution_count": null,
      "outputs": []
    }
  ],
  "metadata": {
    "anaconda-cloud": {
      "environment": null,
      "summary": "Python Crash Course"
    },
    "kernelspec": {
      "display_name": "Python 3",
      "language": "python",
      "name": "python3"
    },
    "language_info": {
      "codemirror_mode": {
        "name": "ipython",
        "version": 3
      },
      "file_extension": ".py",
      "mimetype": "text/x-python",
      "name": "python",
      "nbconvert_exporter": "python",
      "pygments_lexer": "ipython3",
      "version": "3.8.5"
    },
    "colab": {
      "provenance": [],
      "include_colab_link": true
    }
  },
  "nbformat": 4,
  "nbformat_minor": 0
}